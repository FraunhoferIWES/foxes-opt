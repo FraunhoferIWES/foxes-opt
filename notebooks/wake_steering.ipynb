{
 "cells": [
  {
   "cell_type": "markdown",
   "metadata": {},
   "source": [
    "# Wake steering\n",
    "\n",
    "This example demonstrates how to optimize the yaw angles of wind turbine rotors, such that the wakes are steered away from downwind turbines."
   ]
  },
  {
   "cell_type": "code",
   "execution_count": null,
   "metadata": {},
   "outputs": [],
   "source": [
    "%matplotlib inline\n",
    "import matplotlib.pyplot as plt\n",
    "import numpy as np\n",
    "import foxes\n",
    "import foxes.variables as FV\n",
    "from iwopy.interfaces.pymoo import Optimizer_pymoo\n",
    "from foxes_opt.problems import OptFarmVars\n",
    "from foxes_opt.objectives import MaxFarmPower\n"
   ]
  },
  {
   "cell_type": "markdown",
   "metadata": {},
   "source": [
    "Let's initialize the *foxes* engine, which will be used for all calculations:"
   ]
  },
  {
   "cell_type": "code",
   "execution_count": null,
   "metadata": {},
   "outputs": [],
   "source": [
    "engine = foxes.Engine.new(\n",
    "    \"process\", \n",
    "    chunk_size_states=500, \n",
    "    chunk_size_points=5000, \n",
    "    verbosity=0,\n",
    ")\n",
    "engine.initialize()"
   ]
  },
  {
   "cell_type": "markdown",
   "metadata": {},
   "source": [
    "In this example we are looking at a small 3 x 3 regualar wind farm with `NREL5MW` turbines:"
   ]
  },
  {
   "cell_type": "code",
   "execution_count": null,
   "metadata": {},
   "outputs": [],
   "source": [
    "farm = foxes.WindFarm()\n",
    "foxes.input.farm_layout.add_grid(\n",
    "    farm,\n",
    "    xy_base=np.array([500.0, 500.0]),\n",
    "    step_vectors=np.array([[1300.0, 0], [200, 600.0]]),\n",
    "    steps=(3, 3),\n",
    "    turbine_models=[\"opt_yawm\", \"yawm2yaw\", \"NREL5MW\"],\n",
    "    verbosity=0,\n",
    ")\n",
    "\n",
    "ax = foxes.output.FarmLayoutOutput(farm).get_figure()\n",
    "plt.show()\n",
    "plt.close(ax.get_figure())"
   ]
  },
  {
   "cell_type": "markdown",
   "metadata": {},
   "source": [
    "Notice how the name of the optimization model `opt_yawm`, which will be defined shortly, appears in the list of turbine models. The idea is as follows:\n",
    "\n",
    "- First, the optimizer sets the `FV.YAWM` variable, representing _yaw misalignment_ in degrees, i.e., a delta yaw value from greedy conditions\n",
    "- Then, the model `yawm2yaw` translates this into the absolute yaw value, i.e., the absolute turbine axis orientation, expressed in degrees\n",
    "- This setting is then used for thrust and power calculations, by the turbine type model `NREL5MW`.\n",
    "\n",
    "We are considering sinlge-state uniform inflow conditions:"
   ]
  },
  {
   "cell_type": "code",
   "execution_count": null,
   "metadata": {},
   "outputs": [],
   "source": [
    "states = foxes.input.states.SingleStateStates(\n",
    "    ws=9, wd=270, ti=0.06, rho=1.225\n",
    ")"
   ]
  },
  {
   "cell_type": "markdown",
   "metadata": {},
   "source": [
    "The algorithm is defined next, including a TI wake model and the `Bastankhah2016` wake model. Also notice the wake frame choice `yawed`, which realizes the wake bending for yawed conditions:"
   ]
  },
  {
   "cell_type": "code",
   "execution_count": null,
   "metadata": {},
   "outputs": [],
   "source": [
    "algo = foxes.algorithms.Downwind(\n",
    "    farm,\n",
    "    states,\n",
    "    rotor_model=\"grid25\",\n",
    "    wake_models=[\"IECTI2019k_quadratic_ambka02\", \"Bastankhah2016_linear_ambka02\"],\n",
    "    wake_frame=\"yawed\",\n",
    "    verbosity=0,\n",
    ")"
   ]
  },
  {
   "cell_type": "markdown",
   "metadata": {},
   "source": [
    "The optimization problem is power maximization by finding the optimal value of the variable `FV.YAWM` for each turbine:"
   ]
  },
  {
   "cell_type": "code",
   "execution_count": null,
   "metadata": {},
   "outputs": [],
   "source": [
    "problem = OptFarmVars(\"opt_yawm\", algo)\n",
    "problem.add_var(FV.YAWM, float, 0.0, -40.0, 40.0, level=\"turbine\")\n",
    "problem.add_objective(MaxFarmPower(problem))\n",
    "problem.initialize()"
   ]
  },
  {
   "cell_type": "markdown",
   "metadata": {},
   "source": [
    "Next, we setup the solver:"
   ]
  },
  {
   "cell_type": "code",
   "execution_count": null,
   "metadata": {},
   "outputs": [],
   "source": [
    "solver = Optimizer_pymoo(\n",
    "    problem,\n",
    "    problem_pars=dict(vectorize=True),\n",
    "    algo_pars=dict(type=\"GA\", pop_size=100, seed=42),\n",
    "    setup_pars=dict(),\n",
    "    term_pars=(\"n_gen\", 100),\n",
    ")\n",
    "solver.initialize()\n",
    "solver.print_info()"
   ]
  },
  {
   "cell_type": "markdown",
   "metadata": {},
   "source": [
    "Now everything is setup, and we can solve the problem:"
   ]
  },
  {
   "cell_type": "code",
   "execution_count": null,
   "metadata": {},
   "outputs": [],
   "source": [
    "results = solver.solve()\n",
    "solver.finalize(results)"
   ]
  },
  {
   "cell_type": "code",
   "execution_count": null,
   "metadata": {},
   "outputs": [],
   "source": [
    "print()\n",
    "print(results)\n",
    "\n",
    "fr = results.problem_results.to_dataframe()\n",
    "fr[[FV.X, FV.Y, FV.AMB_WD, FV.YAWM, FV.TI, FV.REWS, FV.P]]"
   ]
  },
  {
   "cell_type": "markdown",
   "metadata": {},
   "source": [
    "Finally, we can visualize the result by looking at the flow field:"
   ]
  },
  {
   "cell_type": "code",
   "execution_count": null,
   "metadata": {},
   "outputs": [],
   "source": [
    "o = foxes.output.FlowPlots2D(algo, results.problem_results)\n",
    "fig = o.get_mean_fig_xy(\"WS\", resolution=10, xmax=5000)\n",
    "plt.show()"
   ]
  },
  {
   "cell_type": "markdown",
   "metadata": {},
   "source": [
    "Clearly the turbines are trying to avoid hitting downwind turbines with their wakes.\n",
    "\n",
    "Finally, let's shutdown the *foxes* engine:"
   ]
  },
  {
   "cell_type": "code",
   "execution_count": null,
   "metadata": {},
   "outputs": [],
   "source": [
    "engine.finalize()"
   ]
  }
 ],
 "metadata": {
  "kernelspec": {
   "display_name": "foxes-opt",
   "language": "python",
   "name": "python3"
  },
  "language_info": {
   "codemirror_mode": {
    "name": "ipython",
    "version": 3
   },
   "file_extension": ".py",
   "mimetype": "text/x-python",
   "name": "python",
   "nbconvert_exporter": "python",
   "pygments_lexer": "ipython3",
   "version": "3.11.10"
  }
 },
 "nbformat": 4,
 "nbformat_minor": 2
}
